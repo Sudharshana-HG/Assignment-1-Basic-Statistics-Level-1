{
  "nbformat": 4,
  "nbformat_minor": 0,
  "metadata": {
    "colab": {
      "provenance": [],
      "authorship_tag": "ABX9TyNPz/2WyU4/ZKFV2Yit7kzg",
      "include_colab_link": true
    },
    "kernelspec": {
      "name": "python3",
      "display_name": "Python 3"
    },
    "language_info": {
      "name": "python"
    }
  },
  "cells": [
    {
      "cell_type": "markdown",
      "metadata": {
        "id": "view-in-github",
        "colab_type": "text"
      },
      "source": [
        "<a href=\"https://colab.research.google.com/github/Sudharshana-HG/Assignment-1-Basic-Statistics-Level-1/blob/main/Assignment_L1_Q11.ipynb\" target=\"_parent\"><img src=\"https://colab.research.google.com/assets/colab-badge.svg\" alt=\"Open In Colab\"/></a>"
      ]
    },
    {
      "cell_type": "code",
      "execution_count": 3,
      "metadata": {
        "id": "8BNqod8TbS12"
      },
      "outputs": [],
      "source": [
        "import numpy as np\n",
        "import pandas as pd\n",
        "from scipy import stats\n",
        "from scipy.stats import norm"
      ]
    },
    {
      "cell_type": "code",
      "source": [
        "# Avg. weight of Adult in Mexico with 94% CI\n",
        "CI1=stats.t.interval(0.94,\n",
        "                 df=1999,\n",
        "                 loc=200,\n",
        "                 scale=30/(np.sqrt(2000)))\n",
        "print(\"Avg. weight of Adult in Mexico with 94% CI is :\",CI1)"
      ],
      "metadata": {
        "colab": {
          "base_uri": "https://localhost:8080/"
        },
        "id": "DV24M3UAcaa4",
        "outputId": "ddaad012-ee13-456c-bca5-26666b3b053e"
      },
      "execution_count": 9,
      "outputs": [
        {
          "output_type": "stream",
          "name": "stdout",
          "text": [
            "Avg. weight of Adult in Mexico with 94% CI is : (198.7376089443071, 201.2623910556929)\n"
          ]
        }
      ]
    },
    {
      "cell_type": "code",
      "source": [
        "# Avg. weight of Adult in Mexico with 96% CI\n",
        "CI2=stats.t.interval(0.96,\n",
        "                 df=1999,\n",
        "                 loc=200,\n",
        "                 scale=30/(np.sqrt(2000)))\n",
        "print(\"Avg. weight of Adult in Mexico with 96% CI is :\",CI2)"
      ],
      "metadata": {
        "colab": {
          "base_uri": "https://localhost:8080/"
        },
        "id": "6Vx3N36xdfPn",
        "outputId": "9f5f6e2b-f414-4059-eecc-29b4b8d19ec1"
      },
      "execution_count": 10,
      "outputs": [
        {
          "output_type": "stream",
          "name": "stdout",
          "text": [
            "Avg. weight of Adult in Mexico with 96% CI is : (198.6214037429732, 201.3785962570268)\n"
          ]
        }
      ]
    },
    {
      "cell_type": "code",
      "source": [
        "# Avg. weight of Adult in Mexico with 98% CI\n",
        "CI3=stats.t.interval(0.98,\n",
        "                 df=1999,\n",
        "                 loc=200,\n",
        "                 scale=30/(np.sqrt(2000)))\n",
        "print(\"Avg. weight of Adult in Mexico with 98% CI is :\",CI3)"
      ],
      "metadata": {
        "colab": {
          "base_uri": "https://localhost:8080/"
        },
        "id": "HX-qDTBrd1d1",
        "outputId": "d908fdb1-235f-462c-d273-25b2c4d44a00"
      },
      "execution_count": 11,
      "outputs": [
        {
          "output_type": "stream",
          "name": "stdout",
          "text": [
            "Avg. weight of Adult in Mexico with 98% CI is : (198.4381860483216, 201.5618139516784)\n"
          ]
        }
      ]
    },
    {
      "cell_type": "code",
      "source": [],
      "metadata": {
        "id": "E-pWlkUCe8ft"
      },
      "execution_count": null,
      "outputs": []
    }
  ]
}