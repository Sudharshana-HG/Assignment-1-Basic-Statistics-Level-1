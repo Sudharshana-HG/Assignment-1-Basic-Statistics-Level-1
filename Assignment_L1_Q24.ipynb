{
  "nbformat": 4,
  "nbformat_minor": 0,
  "metadata": {
    "colab": {
      "provenance": [],
      "authorship_tag": "ABX9TyNghx/i6Sz1DPpRByEyhR1A",
      "include_colab_link": true
    },
    "kernelspec": {
      "name": "python3",
      "display_name": "Python 3"
    },
    "language_info": {
      "name": "python"
    }
  },
  "cells": [
    {
      "cell_type": "markdown",
      "metadata": {
        "id": "view-in-github",
        "colab_type": "text"
      },
      "source": [
        "<a href=\"https://colab.research.google.com/github/Sudharshana-HG/Assignment-1-Basic-Statistics-Level-1/blob/main/Assignment_L1_Q24.ipynb\" target=\"_parent\"><img src=\"https://colab.research.google.com/assets/colab-badge.svg\" alt=\"Open In Colab\"/></a>"
      ]
    },
    {
      "cell_type": "code",
      "execution_count": 17,
      "metadata": {
        "id": "_9lc4PBiLxbp"
      },
      "outputs": [],
      "source": [
        "from scipy import stats\n",
        "from scipy.stats import norm\n",
        "import numpy as np"
      ]
    },
    {
      "cell_type": "code",
      "source": [
        "# Assume Null Hypothesis is: Ho = Avg life of Bulb >= 260 days\n",
        "# Alternate Hypothesis is: Ha = Avg life of Bulb < 260 days"
      ],
      "metadata": {
        "id": "cCq-k04nL758"
      },
      "execution_count": 18,
      "outputs": []
    },
    {
      "cell_type": "code",
      "source": [
        "# find t-scores at x=260; t=(s_mean-P_mean)/(s_SD/sqrt(n))\n",
        "t=(260-270)/(90/np.sqrt(18))\n",
        "t"
      ],
      "metadata": {
        "colab": {
          "base_uri": "https://localhost:8080/"
        },
        "id": "xsMCU2taMUZb",
        "outputId": "309b0242-bd8f-4196-e40b-f83848c0fa2f"
      },
      "execution_count": 19,
      "outputs": [
        {
          "output_type": "execute_result",
          "data": {
            "text/plain": [
              "-0.4714045207910317"
            ]
          },
          "metadata": {},
          "execution_count": 19
        }
      ]
    },
    {
      "cell_type": "code",
      "source": [
        "# Find P(X>=260) for null hypothesis"
      ],
      "metadata": {
        "id": "Y3II3_1mMitt"
      },
      "execution_count": 20,
      "outputs": []
    },
    {
      "cell_type": "code",
      "source": [
        "# p_value=1-stats.t.cdf(abs(t_scores),df=n-1)... Using cdf function\n",
        "p_value=1-stats.t.cdf(abs(-0.4714),df=17)\n",
        "p_value"
      ],
      "metadata": {
        "colab": {
          "base_uri": "https://localhost:8080/"
        },
        "id": "xFvmygkLMmWV",
        "outputId": "0b55ba58-7624-489f-d46b-790974736144"
      },
      "execution_count": 21,
      "outputs": [
        {
          "output_type": "execute_result",
          "data": {
            "text/plain": [
              "0.32167411684460556"
            ]
          },
          "metadata": {},
          "execution_count": 21
        }
      ]
    },
    {
      "cell_type": "code",
      "source": [
        "#Probability that 18 randomly selected bulbs would have an average life of no more than 260 days is 32.17%\n",
        "#Assuming significance value α = 0.05 (Standard Value)(If p_value < α ; \n",
        "#Reject Ho and accept Ha or vice-versa)Thus, as p-value > α ; Accept Ho i.e. The CEO claims are false and the avg life of bulb > 260 days"
      ],
      "metadata": {
        "id": "7YGEVzg1Mtc_"
      },
      "execution_count": 8,
      "outputs": []
    },
    {
      "cell_type": "code",
      "source": [],
      "metadata": {
        "id": "JMygHZf4OIrc"
      },
      "execution_count": null,
      "outputs": []
    }
  ]
}